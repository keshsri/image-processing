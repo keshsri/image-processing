{
  "nbformat": 4,
  "nbformat_minor": 0,
  "metadata": {
    "colab": {
      "provenance": [],
      "gpuType": "T4",
      "mount_file_id": "1Ro17luUzkrvuHsx9RMFbxH5P-QLcBr_X",
      "authorship_tag": "ABX9TyMbYXMY/ljFVrmuIoBks9b6",
      "include_colab_link": true
    },
    "kernelspec": {
      "name": "python3",
      "display_name": "Python 3"
    },
    "language_info": {
      "name": "python"
    },
    "accelerator": "GPU"
  },
  "cells": [
    {
      "cell_type": "markdown",
      "metadata": {
        "id": "view-in-github",
        "colab_type": "text"
      },
      "source": [
        "<a href=\"https://colab.research.google.com/github/keshsri/Plant-Disease-Detection/blob/main/FYP_Recoded.ipynb\" target=\"_parent\"><img src=\"https://colab.research.google.com/assets/colab-badge.svg\" alt=\"Open In Colab\"/></a>"
      ]
    },
    {
      "cell_type": "code",
      "source": [
        "!wget -O archive.zip \"https://www.dropbox.com/scl/fi/orop3ccua6mqx9o3651bu/archive.zip?rlkey=tme9uxnztqkhiavoywv2uwmie&dl=0.zip\""
      ],
      "metadata": {
        "id": "2qkR6wQp1PXM"
      },
      "execution_count": null,
      "outputs": []
    },
    {
      "cell_type": "code",
      "execution_count": null,
      "metadata": {
        "id": "gx7t3iNa9lLW"
      },
      "outputs": [],
      "source": [
        "import zipfile\n",
        "\n",
        "local_zip = './archive.zip'\n",
        "zip_ref = zipfile.ZipFile(local_zip, 'r')\n",
        "zip_ref.extractall()\n",
        "zip_ref.close()"
      ]
    },
    {
      "cell_type": "code",
      "source": [
        "!pip install split-folders\n",
        "import splitfolders\n",
        "import os\n",
        "\n",
        "os.mkdir(\"dataset\")\n",
        "\n",
        "splitfolders.ratio(\"./PlantVillage\", \"./dataset\", seed=1337, ratio=(.8,.1,.1))"
      ],
      "metadata": {
        "colab": {
          "base_uri": "https://localhost:8080/"
        },
        "id": "zzm1uE1-HAb6",
        "outputId": "ae1d5c8c-6566-4318-f4b1-4f561dea517d"
      },
      "execution_count": null,
      "outputs": [
        {
          "output_type": "stream",
          "name": "stderr",
          "text": [
            "Copying files: 20639 files [00:06, 3077.06 files/s]\n"
          ]
        }
      ]
    },
    {
      "cell_type": "code",
      "source": [
        "import os\n",
        "\n",
        "base_dir = './dataset'\n",
        "train_dir = os.path.join(base_dir, 'train')\n",
        "validation_dir = os.path.join(base_dir, 'val')\n",
        "test_dir = os.path.join(base_dir, 'test')"
      ],
      "metadata": {
        "colab": {
          "base_uri": "https://localhost:8080/"
        },
        "id": "LAc1kn8AG9QZ",
        "outputId": "0b0f9002-a7dc-4c3d-e26a-1103bacc3066"
      },
      "execution_count": null,
      "outputs": [
        {
          "output_type": "stream",
          "name": "stdout",
          "text": [
            "15\n"
          ]
        }
      ]
    },
    {
      "cell_type": "code",
      "source": [
        "print(len(os.listdir('/content/dataset/test/Pepper__bell___Bacterial_spot')))\n",
        "print(len(os.listdir('/content/dataset/train/Pepper__bell___Bacterial_spot')))\n",
        "print(len(os.listdir('/content/dataset/val/Pepper__bell___Bacterial_spot')))"
      ],
      "metadata": {
        "colab": {
          "base_uri": "https://localhost:8080/"
        },
        "id": "bJATUUlXIvLU",
        "outputId": "5e1161c7-8dce-4581-9b61-481222015b0d"
      },
      "execution_count": null,
      "outputs": [
        {
          "output_type": "stream",
          "name": "stdout",
          "text": [
            "101\n",
            "797\n",
            "99\n"
          ]
        }
      ]
    },
    {
      "cell_type": "code",
      "source": [
        "from tensorflow.keras.preprocessing.image import ImageDataGenerator\n",
        "\n",
        "train_datagen = ImageDataGenerator(\n",
        "    rescale=1./255.,\n",
        "    rotation_range=40,\n",
        "    width_shift_range=0.2,\n",
        "    height_shift_range=0.2,\n",
        "    shear_range=0.2,\n",
        "    horizontal_flip=True,\n",
        "    fill_mode='nearest'\n",
        ")\n",
        "\n",
        "validation_datagen = ImageDataGenerator(rescale=1./255.)"
      ],
      "metadata": {
        "id": "WQbH5y3vI-uz"
      },
      "execution_count": null,
      "outputs": []
    },
    {
      "cell_type": "code",
      "source": [
        "train_generator = train_datagen.flow_from_directory(\n",
        "    train_dir,\n",
        "    target_size=(256,256),\n",
        "    batch_size=256,\n",
        "    class_mode='categorical'\n",
        ")\n",
        "\n",
        "validation_generator = validation_datagen.flow_from_directory(\n",
        "    validation_dir,\n",
        "    target_size=(256,256),\n",
        "    batch_size=256,\n",
        "    class_mode='categorical'\n",
        ")"
      ],
      "metadata": {
        "colab": {
          "base_uri": "https://localhost:8080/"
        },
        "id": "XWYS_2blLD4c",
        "outputId": "74f83a5a-e086-418b-ee62-8219b12cd46a"
      },
      "execution_count": null,
      "outputs": [
        {
          "output_type": "stream",
          "name": "stdout",
          "text": [
            "Found 16504 images belonging to 15 classes.\n",
            "Found 2058 images belonging to 15 classes.\n"
          ]
        }
      ]
    },
    {
      "cell_type": "code",
      "source": [
        "from tensorflow import keras\n",
        "\n",
        "model = keras.models.Sequential([\n",
        "    keras.layers.Conv2D(32, (3,3), activation='relu', input_shape=(256,256,3)),\n",
        "    keras.layers.MaxPooling2D(2,2),\n",
        "    keras.layers.Conv2D(64, (3,3), activation='relu'),\n",
        "    keras.layers.MaxPooling2D(2,2),\n",
        "    keras.layers.Dropout(0.2),\n",
        "    keras.layers.Conv2D(128, (3,3), activation='relu'),\n",
        "    keras.layers.MaxPooling2D(2,2),\n",
        "    keras.layers.Conv2D(128, (3,3), activation='relu'),\n",
        "    keras.layers.MaxPooling2D(2,2),\n",
        "    keras.layers.Dropout(0.2),\n",
        "    keras.layers.Conv2D(128, (3,3), activation='relu'),\n",
        "    keras.layers.MaxPooling2D(2,2),\n",
        "    keras.layers.Conv2D(128, (3,3), activation='relu'),\n",
        "    keras.layers.MaxPooling2D(2,2),\n",
        "    keras.layers.Dropout(0.2),\n",
        "    keras.layers.Flatten(),\n",
        "    keras.layers.Dropout(0.2),\n",
        "    keras.layers.Dense(512, activation='relu'),\n",
        "    keras.layers.Dense(15, activation='softmax')\n",
        "])\n",
        "\n",
        "model.summary()"
      ],
      "metadata": {
        "colab": {
          "base_uri": "https://localhost:8080/"
        },
        "id": "VtFQuDe9LOaw",
        "outputId": "ef1c8f78-4859-4dc1-b204-77c132a72fcf"
      },
      "execution_count": null,
      "outputs": [
        {
          "output_type": "stream",
          "name": "stdout",
          "text": [
            "Model: \"sequential_1\"\n",
            "_________________________________________________________________\n",
            " Layer (type)                Output Shape              Param #   \n",
            "=================================================================\n",
            " conv2d_8 (Conv2D)           (None, 254, 254, 32)      896       \n",
            "                                                                 \n",
            " max_pooling2d_8 (MaxPoolin  (None, 127, 127, 32)      0         \n",
            " g2D)                                                            \n",
            "                                                                 \n",
            " conv2d_9 (Conv2D)           (None, 125, 125, 64)      18496     \n",
            "                                                                 \n",
            " max_pooling2d_9 (MaxPoolin  (None, 62, 62, 64)        0         \n",
            " g2D)                                                            \n",
            "                                                                 \n",
            " dropout_4 (Dropout)         (None, 62, 62, 64)        0         \n",
            "                                                                 \n",
            " conv2d_10 (Conv2D)          (None, 60, 60, 128)       73856     \n",
            "                                                                 \n",
            " max_pooling2d_10 (MaxPooli  (None, 30, 30, 128)       0         \n",
            " ng2D)                                                           \n",
            "                                                                 \n",
            " conv2d_11 (Conv2D)          (None, 28, 28, 128)       147584    \n",
            "                                                                 \n",
            " max_pooling2d_11 (MaxPooli  (None, 14, 14, 128)       0         \n",
            " ng2D)                                                           \n",
            "                                                                 \n",
            " dropout_5 (Dropout)         (None, 14, 14, 128)       0         \n",
            "                                                                 \n",
            " conv2d_12 (Conv2D)          (None, 12, 12, 128)       147584    \n",
            "                                                                 \n",
            " max_pooling2d_12 (MaxPooli  (None, 6, 6, 128)         0         \n",
            " ng2D)                                                           \n",
            "                                                                 \n",
            " conv2d_13 (Conv2D)          (None, 4, 4, 128)         147584    \n",
            "                                                                 \n",
            " max_pooling2d_13 (MaxPooli  (None, 2, 2, 128)         0         \n",
            " ng2D)                                                           \n",
            "                                                                 \n",
            " dropout_6 (Dropout)         (None, 2, 2, 128)         0         \n",
            "                                                                 \n",
            " flatten_1 (Flatten)         (None, 512)               0         \n",
            "                                                                 \n",
            " dropout_7 (Dropout)         (None, 512)               0         \n",
            "                                                                 \n",
            " dense_2 (Dense)             (None, 512)               262656    \n",
            "                                                                 \n",
            " dense_3 (Dense)             (None, 15)                7695      \n",
            "                                                                 \n",
            "=================================================================\n",
            "Total params: 806351 (3.08 MB)\n",
            "Trainable params: 806351 (3.08 MB)\n",
            "Non-trainable params: 0 (0.00 Byte)\n",
            "_________________________________________________________________\n"
          ]
        }
      ]
    },
    {
      "cell_type": "code",
      "source": [
        "model.compile(\n",
        "    optimizer='Adam',\n",
        "    loss='categorical_crossentropy',\n",
        "    metrics=['accuracy']\n",
        ")"
      ],
      "metadata": {
        "id": "WcTR27d-Ry-4"
      },
      "execution_count": null,
      "outputs": []
    },
    {
      "cell_type": "code",
      "source": [
        "history =  model.fit(\n",
        "    train_generator,\n",
        "    validation_data = validation_generator,\n",
        "    steps_per_epoch=65,\n",
        "    validation_steps=8,\n",
        "    epochs=20,\n",
        "    verbose=1\n",
        ")"
      ],
      "metadata": {
        "colab": {
          "base_uri": "https://localhost:8080/"
        },
        "id": "0qcIjLI5Sx63",
        "outputId": "795c7ed0-ec3c-44c3-95ac-9428787aaeb4"
      },
      "execution_count": null,
      "outputs": [
        {
          "output_type": "stream",
          "name": "stdout",
          "text": [
            "Epoch 1/20\n",
            "65/65 [==============================] - 366s 5s/step - loss: 2.4084 - accuracy: 0.1990 - val_loss: 2.1817 - val_accuracy: 0.2910\n",
            "Epoch 2/20\n",
            "65/65 [==============================] - 413s 6s/step - loss: 2.0170 - accuracy: 0.3351 - val_loss: 1.9020 - val_accuracy: 0.3740\n",
            "Epoch 3/20\n",
            "65/65 [==============================] - 331s 5s/step - loss: 1.6030 - accuracy: 0.4684 - val_loss: 1.6125 - val_accuracy: 0.4580\n",
            "Epoch 4/20\n",
            "65/65 [==============================] - 330s 5s/step - loss: 1.2304 - accuracy: 0.5862 - val_loss: 1.3981 - val_accuracy: 0.5317\n",
            "Epoch 5/20\n",
            "65/65 [==============================] - 330s 5s/step - loss: 1.0080 - accuracy: 0.6544 - val_loss: 1.2139 - val_accuracy: 0.5977\n",
            "Epoch 6/20\n",
            "65/65 [==============================] - 321s 5s/step - loss: 0.8537 - accuracy: 0.7012 - val_loss: 0.6949 - val_accuracy: 0.7505\n",
            "Epoch 7/20\n",
            "65/65 [==============================] - 322s 5s/step - loss: 0.7276 - accuracy: 0.7456 - val_loss: 0.8509 - val_accuracy: 0.7202\n",
            "Epoch 8/20\n",
            "65/65 [==============================] - 320s 5s/step - loss: 0.6070 - accuracy: 0.7865 - val_loss: 0.7292 - val_accuracy: 0.7583\n",
            "Epoch 9/20\n",
            "65/65 [==============================] - 323s 5s/step - loss: 0.5725 - accuracy: 0.7979 - val_loss: 0.6231 - val_accuracy: 0.7866\n",
            "Epoch 10/20\n",
            "65/65 [==============================] - 322s 5s/step - loss: 0.5098 - accuracy: 0.8262 - val_loss: 0.5958 - val_accuracy: 0.7964\n",
            "Epoch 11/20\n",
            "65/65 [==============================] - 320s 5s/step - loss: 0.4543 - accuracy: 0.8417 - val_loss: 0.6935 - val_accuracy: 0.7783\n",
            "Epoch 12/20\n",
            "65/65 [==============================] - 320s 5s/step - loss: 0.4091 - accuracy: 0.8589 - val_loss: 0.6929 - val_accuracy: 0.7891\n",
            "Epoch 13/20\n",
            "65/65 [==============================] - 322s 5s/step - loss: 0.3618 - accuracy: 0.8739 - val_loss: 0.7305 - val_accuracy: 0.7812\n",
            "Epoch 14/20\n",
            "65/65 [==============================] - 322s 5s/step - loss: 0.3629 - accuracy: 0.8754 - val_loss: 0.4389 - val_accuracy: 0.8647\n",
            "Epoch 15/20\n",
            "65/65 [==============================] - 321s 5s/step - loss: 0.3411 - accuracy: 0.8826 - val_loss: 0.6692 - val_accuracy: 0.8018\n",
            "Epoch 16/20\n",
            "65/65 [==============================] - 322s 5s/step - loss: 0.2996 - accuracy: 0.8952 - val_loss: 0.3549 - val_accuracy: 0.8823\n",
            "Epoch 17/20\n",
            "65/65 [==============================] - 322s 5s/step - loss: 0.3037 - accuracy: 0.8958 - val_loss: 0.5235 - val_accuracy: 0.8257\n",
            "Epoch 18/20\n",
            "65/65 [==============================] - 320s 5s/step - loss: 0.2733 - accuracy: 0.9059 - val_loss: 0.3062 - val_accuracy: 0.8970\n",
            "Epoch 19/20\n",
            "65/65 [==============================] - 324s 5s/step - loss: 0.2619 - accuracy: 0.9087 - val_loss: 0.5906 - val_accuracy: 0.8389\n",
            "Epoch 20/20\n",
            "65/65 [==============================] - 321s 5s/step - loss: 0.2605 - accuracy: 0.9086 - val_loss: 0.2581 - val_accuracy: 0.9121\n"
          ]
        }
      ]
    },
    {
      "cell_type": "code",
      "source": [
        "import matplotlib.pyplot as plt\n",
        "\n",
        "acc = history.history['accuracy']\n",
        "val_acc = history.history['val_accuracy']\n",
        "loss = history.history['loss']\n",
        "val_loss = history.history['val_loss']\n",
        "epochs = range(len(acc))\n",
        "\n",
        "plt.plot(epochs, acc, 'r', label='Training Accuracy')\n",
        "plt.plot(epochs, val_acc, 'b', label='Validdation Accuracy')\n",
        "plt.title(\"Training and Validation Accuracy\")\n",
        "plt.show()\n",
        "\n",
        "plt.plot(epochs, loss, 'r', label='Training Loss')\n",
        "plt.plot(epochs, val_loss, 'b', label='Validation Loss')\n",
        "plt.title(\"Training and Validation Loss\")\n",
        "plt.show()"
      ],
      "metadata": {
        "colab": {
          "base_uri": "https://localhost:8080/",
          "height": 887
        },
        "id": "mrbXe6ogTzWZ",
        "outputId": "bcdeb23e-ee4d-481d-ec47-d84d873f742a"
      },
      "execution_count": null,
      "outputs": [
        {
          "output_type": "display_data",
          "data": {
            "text/plain": [
              "<Figure size 640x480 with 1 Axes>"
            ],
            "image/png": "[encoded data removed]"
          },
          "metadata": {}
        },
        {
          "output_type": "display_data",
          "data": {
            "text/plain": [
              "<Figure size 640x480 with 1 Axes>"
            ],
            "image/png": "[encoded data removed]"
          },
          "metadata": {}
        }
      ]
    },
    {
      "cell_type": "code",
      "source": [
        "test_datagen = ImageDataGenerator(rescale=1./255.)\n",
        "\n",
        "test_generator = test_datagen.flow_from_directory(\n",
        "    test_dir,\n",
        "    target_size=(256,256),\n",
        "    batch_size=256,\n",
        "    class_mode='categorical'\n",
        ")"
      ],
      "metadata": {
        "colab": {
          "base_uri": "https://localhost:8080/"
        },
        "id": "-aP1OJTVvAZ7",
        "outputId": "37e2adaa-8b40-4b43-a472-6d73df4ae39b"
      },
      "execution_count": null,
      "outputs": [
        {
          "output_type": "stream",
          "name": "stdout",
          "text": [
            "Found 2076 images belonging to 15 classes.\n"
          ]
        }
      ]
    },
    {
      "cell_type": "code",
      "source": [
        "model.evaluate(test_generator)"
      ],
      "metadata": {
        "colab": {
          "base_uri": "https://localhost:8080/"
        },
        "id": "djtniqrYwcnh",
        "outputId": "a1a2725e-93c8-4336-917a-88a11f51fc57"
      },
      "execution_count": null,
      "outputs": [
        {
          "output_type": "stream",
          "name": "stdout",
          "text": [
            "9/9 [==============================] - 6s 624ms/step - loss: 0.2760 - accuracy: 0.9123\n"
          ]
        },
        {
          "output_type": "execute_result",
          "data": {
            "text/plain": [
              "[0.27600574493408203, 0.9123314023017883]"
            ]
          },
          "metadata": {},
          "execution_count": 23
        }
      ]
    },
    {
      "cell_type": "code",
      "source": [
        "model.save('plant_disease_detection.h5')"
      ],
      "metadata": {
        "colab": {
          "base_uri": "https://localhost:8080/"
        },
        "id": "RpjJoN8wwiiZ",
        "outputId": "53502ef2-5735-4f2c-c4b7-7c678f35f106"
      },
      "execution_count": null,
      "outputs": [
        {
          "output_type": "stream",
          "name": "stderr",
          "text": [
            "/usr/local/lib/python3.10/dist-packages/keras/src/engine/training.py:3000: UserWarning: You are saving your model as an HDF5 file via `model.save()`. This file format is considered legacy. We recommend using instead the native Keras format, e.g. `model.save('my_model.keras')`.\n",
            "  saving_api.save_model(\n"
          ]
        }
      ]
    },
    {
      "cell_type": "code",
      "source": [
        "from google.colab import files\n",
        "files.download(\"plant_disease_detection.h5\")"
      ],
      "metadata": {
        "colab": {
          "base_uri": "https://localhost:8080/",
          "height": 34
        },
        "id": "B9fMy1kZwxIL",
        "outputId": "236172dd-2eb7-4580-87f8-d83d11afecd5"
      },
      "execution_count": null,
      "outputs": [
        {
          "output_type": "display_data",
          "data": {
            "text/plain": [
              "<IPython.core.display.Javascript object>"
            ],
            "application/javascript": [
              "\n",
              "    async function download(id, filename, size) {\n",
              "      if (!google.colab.kernel.accessAllowed) {\n",
              "        return;\n",
              "      }\n",
              "      const div = document.createElement('div');\n",
              "      const label = document.createElement('label');\n",
              "      label.textContent = `Downloading \"${filename}\": `;\n",
              "      div.appendChild(label);\n",
              "      const progress = document.createElement('progress');\n",
              "      progress.max = size;\n",
              "      div.appendChild(progress);\n",
              "      document.body.appendChild(div);\n",
              "\n",
              "      const buffers = [];\n",
              "      let downloaded = 0;\n",
              "\n",
              "      const channel = await google.colab.kernel.comms.open(id);\n",
              "      // Send a message to notify the kernel that we're ready.\n",
              "      channel.send({})\n",
              "\n",
              "      for await (const message of channel.messages) {\n",
              "        // Send a message to notify the kernel that we're ready.\n",
              "        channel.send({})\n",
              "        if (message.buffers) {\n",
              "          for (const buffer of message.buffers) {\n",
              "            buffers.push(buffer);\n",
              "            downloaded += buffer.byteLength;\n",
              "            progress.value = downloaded;\n",
              "          }\n",
              "        }\n",
              "      }\n",
              "      const blob = new Blob(buffers, {type: 'application/binary'});\n",
              "      const a = document.createElement('a');\n",
              "      a.href = window.URL.createObjectURL(blob);\n",
              "      a.download = filename;\n",
              "      div.appendChild(a);\n",
              "      a.click();\n",
              "      div.remove();\n",
              "    }\n",
              "  "
            ]
          },
          "metadata": {}
        },
        {
          "output_type": "display_data",
          "data": {
            "text/plain": [
              "<IPython.core.display.Javascript object>"
            ],
            "application/javascript": [
              "download(\"download_bf553862-f318-41b3-b8a1-73030f456a80\", \"plant_disease_detection.h5\", 9756016)"
            ]
          },
          "metadata": {}
        }
      ]
    },
    {
      "cell_type": "code",
      "source": [],
      "metadata": {
        "id": "TrSJf4iv2UW2"
      },
      "execution_count": null,
      "outputs": []
    }
  ]
}